{
  "nbformat": 4,
  "nbformat_minor": 0,
  "metadata": {
    "colab": {
      "name": "Python Basics WIMLDS.ipynb",
      "provenance": [],
      "collapsed_sections": [
        "VLpn4gqr2LuR",
        "P8NQcH-H0lKe",
        "2TsFJfaH384x",
        "nFEmDtYa9fhx",
        "zt90rhhG4QN9",
        "XN4TWhL377W-",
        "RNfTl--p35ST",
        "BBJgCF4AZrB7",
        "mZtSUb70X1PE",
        "1oeA4DjhYDfh",
        "4jXKJfviYZEZ",
        "vtODp2qwZ3j4",
        "EeTywKiUYtWE",
        "7csqBSxpbrvL",
        "GOrFycvU38-y",
        "W8FnttPHcjXB"
      ],
      "include_colab_link": true
    },
    "kernelspec": {
      "name": "python3",
      "display_name": "Python 3"
    },
    "language_info": {
      "name": "python"
    },
    "accelerator": "GPU"
  },
  "cells": [
    {
      "cell_type": "markdown",
      "metadata": {
        "id": "view-in-github",
        "colab_type": "text"
      },
      "source": [
        "<a href=\"https://colab.research.google.com/github/Ikhadija-5/Python-Basics-for-Wimlds-Meetup/blob/main/Python_Basics_WIMLDS.ipynb\" target=\"_parent\"><img src=\"https://colab.research.google.com/assets/colab-badge.svg\" alt=\"Open In Colab\"/></a>"
      ]
    },
    {
      "cell_type": "markdown",
      "source": [
        "#Introduction to Python"
      ],
      "metadata": {
        "id": "mvVKa4oaml3i"
      }
    },
    {
      "cell_type": "code",
      "source": [
        "print(\"Hello World\")"
      ],
      "metadata": {
        "id": "L3QLyrKMjKvF",
        "colab": {
          "base_uri": "https://localhost:8080/"
        },
        "outputId": "f4aa26fe-6861-4b1b-c18e-6b13eb4f020c"
      },
      "execution_count": null,
      "outputs": [
        {
          "output_type": "stream",
          "name": "stdout",
          "text": [
            "Hello World\n"
          ]
        }
      ]
    },
    {
      "cell_type": "markdown",
      "source": [
        "Simple variable creation\n",
        "\n",
        "* To create a simple variable, we need to give the variable a name and a value(data type). In other words, we assign a value to a variable\n"
      ],
      "metadata": {
        "id": "CAI_vKkYuOCw"
      }
    },
    {
      "cell_type": "code",
      "source": [
        "#Lets declare some variables\n",
        "\n",
        "age = 45 #integer value\n",
        "\n",
        "salary = 1456.8 # A floating point\n",
        "\n",
        "name = \"John\" # A string\n",
        "\n",
        "#displaying the variables\n",
        "print(age)\n",
        "print(salary)\n",
        "print(name)"
      ],
      "metadata": {
        "id": "FEDbKImUuSkA",
        "colab": {
          "base_uri": "https://localhost:8080/"
        },
        "outputId": "0223f150-d74c-4adf-b906-edf7d79d4d3c"
      },
      "execution_count": null,
      "outputs": [
        {
          "output_type": "stream",
          "name": "stdout",
          "text": [
            "45\n",
            "1456.8\n",
            "John\n"
          ]
        }
      ]
    },
    {
      "cell_type": "code",
      "source": [
        "type(age)"
      ],
      "metadata": {
        "colab": {
          "base_uri": "https://localhost:8080/"
        },
        "id": "9T0yg_0XcLWE",
        "outputId": "a921b9c2-d74d-48a0-a525-d22b1aff833a"
      },
      "execution_count": null,
      "outputs": [
        {
          "output_type": "execute_result",
          "data": {
            "text/plain": [
              "int"
            ]
          },
          "metadata": {},
          "execution_count": 3
        }
      ]
    },
    {
      "cell_type": "markdown",
      "source": [
        "**TO DO** "
      ],
      "metadata": {
        "id": "-sFAg5VFwJ8f"
      }
    },
    {
      "cell_type": "code",
      "source": [
        "#1.Declare a variable containing your name, age and your current locatiom.\n",
        "#2.Display these variables in the format \"My name is .......name....I am ....age....years old and I am currently living in ....Ghana\"\n",
        "\n",
        "############START###########################\n",
        "name = 'Khadija'\n",
        "age = '45'\n",
        "location = 'Senegal'\n",
        "###############END###########################\n"
      ],
      "metadata": {
        "id": "wTVKODPBvvMH"
      },
      "execution_count": null,
      "outputs": []
    },
    {
      "cell_type": "code",
      "source": [
        "print('My name is', name, 'I am', age, 'I am currently living in', location )"
      ],
      "metadata": {
        "colab": {
          "base_uri": "https://localhost:8080/"
        },
        "id": "99xoQb1nc1Uv",
        "outputId": "df0c0817-cb30-433d-d83c-91e20ac45727"
      },
      "execution_count": null,
      "outputs": [
        {
          "output_type": "stream",
          "name": "stdout",
          "text": [
            "My name is Khadija I am 45 I am currently living in Senegal\n"
          ]
        }
      ]
    },
    {
      "cell_type": "markdown",
      "source": [
        "\n",
        "**TO DO**\n",
        "\n",
        "Fix the errors in the following variable declarations"
      ],
      "metadata": {
        "id": "Vy58sNuOwzF8"
      }
    },
    {
      "cell_type": "code",
      "source": [
        "myvar = \"John\"\n",
        "myvar"
      ],
      "metadata": {
        "id": "1h2qTV7rwx1d",
        "colab": {
          "base_uri": "https://localhost:8080/",
          "height": 35
        },
        "outputId": "b9909f9f-236d-4a8d-e8c5-ac5422dbac9c"
      },
      "execution_count": null,
      "outputs": [
        {
          "output_type": "execute_result",
          "data": {
            "text/plain": [
              "'John'"
            ],
            "application/vnd.google.colaboratory.intrinsic+json": {
              "type": "string"
            }
          },
          "metadata": {},
          "execution_count": 8
        }
      ]
    },
    {
      "cell_type": "code",
      "source": [
        "2myvar = \"John\"\n",
        "2myvar"
      ],
      "metadata": {
        "id": "ro_NVU_axyCO",
        "colab": {
          "base_uri": "https://localhost:8080/",
          "height": 132
        },
        "outputId": "94bcd264-02d3-4c15-dcf6-757496f32c14"
      },
      "execution_count": null,
      "outputs": [
        {
          "output_type": "error",
          "ename": "SyntaxError",
          "evalue": "ignored",
          "traceback": [
            "\u001b[0;36m  File \u001b[0;32m\"<ipython-input-9-c2abc594798e>\"\u001b[0;36m, line \u001b[0;32m1\u001b[0m\n\u001b[0;31m    2myvar = \"John\"\u001b[0m\n\u001b[0m         ^\u001b[0m\n\u001b[0;31mSyntaxError\u001b[0m\u001b[0;31m:\u001b[0m invalid syntax\n"
          ]
        }
      ]
    },
    {
      "cell_type": "markdown",
      "source": [
        "### Ways of Assigning Values to a variable"
      ],
      "metadata": {
        "id": "ynYDEo-KyJJs"
      }
    },
    {
      "cell_type": "code",
      "source": [
        "#Multiple variables to multiple values\n",
        "# x = \"orange\"\n",
        "# y = \"Banana\"\n",
        "# z = \"Cherry\"\n",
        "x, y, z = \"Orange\", \"Banana\", \"Cherry\"\n",
        "print(x)\n",
        "print(y)\n",
        "print(z)"
      ],
      "metadata": {
        "id": "D4yTvcqeyNXO",
        "colab": {
          "base_uri": "https://localhost:8080/"
        },
        "outputId": "e0fc645d-65ba-4c2d-acb0-7988c5b84152"
      },
      "execution_count": null,
      "outputs": [
        {
          "output_type": "stream",
          "name": "stdout",
          "text": [
            "Orange\n",
            "Banana\n",
            "Cherry\n"
          ]
        }
      ]
    },
    {
      "cell_type": "code",
      "source": [
        "# Multiple variables to one value\n",
        "x = y = z = \"Orange\"\n",
        "print(x)\n",
        "print(y)\n",
        "print(z)"
      ],
      "metadata": {
        "id": "ZINtLTPazZxa",
        "colab": {
          "base_uri": "https://localhost:8080/"
        },
        "outputId": "464d1919-10ee-4181-dbd8-8bab16feed03"
      },
      "execution_count": null,
      "outputs": [
        {
          "output_type": "stream",
          "name": "stdout",
          "text": [
            "Orange\n",
            "Orange\n",
            "Orange\n"
          ]
        }
      ]
    },
    {
      "cell_type": "code",
      "source": [
        "#Multiple values to one variable?\n",
        "_var = 5,6,7\n",
        "_var"
      ],
      "metadata": {
        "id": "PWhdVuXvz66Z",
        "colab": {
          "base_uri": "https://localhost:8080/"
        },
        "outputId": "dd6efdd8-65f7-4e24-c849-80dd79685528"
      },
      "execution_count": null,
      "outputs": [
        {
          "output_type": "execute_result",
          "data": {
            "text/plain": [
              "(5, 6, 7)"
            ]
          },
          "metadata": {},
          "execution_count": 14
        }
      ]
    },
    {
      "cell_type": "code",
      "source": [
        "#Unpacking variables from a list, set, tuple, e.t.c\n",
        "fruits = [\"apple\", \"banana\", \"cherry\"]\n",
        "x, y, z = fruits\n",
        "print(x)\n",
        "print(y)\n",
        "print(z)"
      ],
      "metadata": {
        "id": "UeufQb9Y0Z7a",
        "colab": {
          "base_uri": "https://localhost:8080/"
        },
        "outputId": "853d4216-03cd-4fdf-ca1f-1846483ca20d"
      },
      "execution_count": null,
      "outputs": [
        {
          "output_type": "stream",
          "name": "stdout",
          "text": [
            "apple\n",
            "banana\n",
            "cherry\n"
          ]
        }
      ]
    },
    {
      "cell_type": "markdown",
      "source": [
        "#Lists"
      ],
      "metadata": {
        "id": "VLpn4gqr2LuR"
      }
    },
    {
      "cell_type": "markdown",
      "source": [
        "* In python, we have data types used to store collections of data. A **Lists** is one of such types that we use to store multiple items in one variable \n",
        "\n",
        "\n",
        "* Lets see how we can create *lists* "
      ],
      "metadata": {
        "id": "Vkq9NVWEylw2"
      }
    },
    {
      "cell_type": "code",
      "source": [
        "############## Using square brackets #####################\n",
        "list1 = [\"orange\", \"mango\",\"apple\"]\n",
        "# type(list1)\n",
        "\n",
        "\n",
        "# ############## Using list constructor list() ##############\n",
        "list2 = list((1,6,2,3,))\n",
        "type(list2)\n",
        "\n"
      ],
      "metadata": {
        "id": "ZK0pPnM02Ol3",
        "colab": {
          "base_uri": "https://localhost:8080/"
        },
        "outputId": "1b3e5563-bbb1-4ee9-877e-f7d9488ea39d"
      },
      "execution_count": null,
      "outputs": [
        {
          "output_type": "execute_result",
          "data": {
            "text/plain": [
              "list"
            ]
          },
          "metadata": {},
          "execution_count": 18
        }
      ]
    },
    {
      "cell_type": "code",
      "source": [
        "type(list1)"
      ],
      "metadata": {
        "colab": {
          "base_uri": "https://localhost:8080/"
        },
        "id": "pD17gg-XeXbp",
        "outputId": "3128e18a-d43b-4ddf-d342-127ddab80656"
      },
      "execution_count": null,
      "outputs": [
        {
          "output_type": "execute_result",
          "data": {
            "text/plain": [
              "list"
            ]
          },
          "metadata": {},
          "execution_count": 17
        }
      ]
    },
    {
      "cell_type": "markdown",
      "source": [
        "**TO DO**"
      ],
      "metadata": {
        "id": "5HbG4pwv0wgf"
      }
    },
    {
      "cell_type": "code",
      "source": [
        "################## Create a variable containing a list of days of the week #######################\n",
        "\n",
        "######################### Method 1 ########################################\n",
        "\n",
        "######################### Method 2 ########################################"
      ],
      "metadata": {
        "id": "zZ53LeZy0yJY"
      },
      "execution_count": null,
      "outputs": []
    },
    {
      "cell_type": "markdown",
      "source": [
        "##Properties:\n",
        "* They are ordered\n",
        "* They are mutable\n",
        "* Allows for duplicate values\n",
        " "
      ],
      "metadata": {
        "id": "P8NQcH-H0lKe"
      }
    },
    {
      "cell_type": "code",
      "source": [
        "######### Try to access Wednesday from the list of days in a week variable created ###########\n",
        "days = ['Monday','Tuesday','Wednesday','Thursday','Friday','Saturday','Sunday']\n",
        "# days[0]\n",
        "\n",
        "days.index('Sunday')"
      ],
      "metadata": {
        "id": "2z_I3C1x1n7F",
        "colab": {
          "base_uri": "https://localhost:8080/"
        },
        "outputId": "3a536107-1821-43b5-b8b6-3b4059c992f2"
      },
      "execution_count": null,
      "outputs": [
        {
          "output_type": "execute_result",
          "data": {
            "text/plain": [
              "6"
            ]
          },
          "metadata": {},
          "execution_count": 21
        }
      ]
    },
    {
      "cell_type": "code",
      "source": [
        "days[1] = 'Sunday'"
      ],
      "metadata": {
        "id": "8znMOSqxfH_x"
      },
      "execution_count": null,
      "outputs": []
    },
    {
      "cell_type": "code",
      "source": [
        "days"
      ],
      "metadata": {
        "colab": {
          "base_uri": "https://localhost:8080/"
        },
        "id": "0vIHQZgsfOmU",
        "outputId": "0a0dad46-75ee-440d-ccd4-39f8f8a02556"
      },
      "execution_count": null,
      "outputs": [
        {
          "output_type": "execute_result",
          "data": {
            "text/plain": [
              "['Monday', 'Sunday', 'Wednesday', 'Thursday', 'Friday', 'Saturday', 'Sunday']"
            ]
          },
          "metadata": {},
          "execution_count": 24
        }
      ]
    },
    {
      "cell_type": "code",
      "source": [
        "######## Try to change the second day to Sunday ##############################################\n",
        "d = ['m','t','w','t','t','f']\n"
      ],
      "metadata": {
        "id": "akL3fW5l16Te"
      },
      "execution_count": null,
      "outputs": []
    },
    {
      "cell_type": "code",
      "source": [
        "######### Print The Variable day, what do you observe? #######################################\n",
        "print(d)\n",
        "#Allows Duplicates"
      ],
      "metadata": {
        "id": "wqk-qqEq2YMd"
      },
      "execution_count": null,
      "outputs": []
    },
    {
      "cell_type": "markdown",
      "source": [
        "List can contain multiple data types"
      ],
      "metadata": {
        "id": "--dyArxl3fJ7"
      }
    },
    {
      "cell_type": "code",
      "source": [
        "mixedlist = [1,'w',True,0.4]\n",
        "mixedlist"
      ],
      "metadata": {
        "id": "Bh-_VLXU3dZ9",
        "colab": {
          "base_uri": "https://localhost:8080/"
        },
        "outputId": "10884505-47d3-48c6-9be6-3378467a2e57"
      },
      "execution_count": null,
      "outputs": [
        {
          "output_type": "execute_result",
          "data": {
            "text/plain": [
              "[1, 'w', True, 0.4]"
            ]
          },
          "metadata": {},
          "execution_count": 25
        }
      ]
    },
    {
      "cell_type": "markdown",
      "source": [
        "## Size of a list"
      ],
      "metadata": {
        "id": "2TsFJfaH384x"
      }
    },
    {
      "cell_type": "code",
      "source": [
        "len(mixedlist)"
      ],
      "metadata": {
        "id": "L2UXIlWZ36OW",
        "colab": {
          "base_uri": "https://localhost:8080/"
        },
        "outputId": "d3919234-800d-4049-c0bf-88bfc8c0c647"
      },
      "execution_count": null,
      "outputs": [
        {
          "output_type": "execute_result",
          "data": {
            "text/plain": [
              "4"
            ]
          },
          "metadata": {},
          "execution_count": 26
        }
      ]
    },
    {
      "cell_type": "code",
      "source": [
        "len(days)"
      ],
      "metadata": {
        "colab": {
          "base_uri": "https://localhost:8080/"
        },
        "id": "Ny61djTDfeNs",
        "outputId": "25ff690d-e4c4-4d22-a75d-29cc43ae83c6"
      },
      "execution_count": null,
      "outputs": [
        {
          "output_type": "execute_result",
          "data": {
            "text/plain": [
              "7"
            ]
          },
          "metadata": {},
          "execution_count": 27
        }
      ]
    },
    {
      "cell_type": "markdown",
      "source": [
        "## Indexing and Slicing"
      ],
      "metadata": {
        "id": "nFEmDtYa9fhx"
      }
    },
    {
      "cell_type": "markdown",
      "source": [
        "* Indexing and slicing helps us access values in a list\n",
        "* Both indexing and slicing takes only integer values"
      ],
      "metadata": {
        "id": "7zVh_bIH_JVq"
      }
    },
    {
      "cell_type": "code",
      "source": [
        "countries = [\"Ghana\",\"Kenya\",\"Egypt\", \"Senegal\",\"Nigeria\"]\n"
      ],
      "metadata": {
        "id": "yGB1tR969wyU"
      },
      "execution_count": null,
      "outputs": []
    },
    {
      "cell_type": "markdown",
      "source": [
        "**To Do**"
      ],
      "metadata": {
        "id": "NyFaDEBZo7PH"
      }
    },
    {
      "cell_type": "code",
      "source": [
        "\n",
        "############## print Ghana ###################\n",
        "#positive index\n",
        "countries[0]\n",
        "\n",
        "\n",
        "############### print Nigeria ####################\n",
        "#negative index\n",
        "print(countries[-1])\n",
        "############### print all countries except Ghana and Nigeria\n",
        "#slicing\n",
        "\n",
        "print(countries[1:4])"
      ],
      "metadata": {
        "id": "-uW2AP0co6Xe",
        "colab": {
          "base_uri": "https://localhost:8080/"
        },
        "outputId": "e4fd81e5-a1c7-481f-9d62-4c8538effbdf"
      },
      "execution_count": null,
      "outputs": [
        {
          "output_type": "stream",
          "name": "stdout",
          "text": [
            "Nigeria\n",
            "['Kenya', 'Egypt', 'Senegal']\n"
          ]
        }
      ]
    },
    {
      "cell_type": "markdown",
      "source": [
        "## Adding elements to a list"
      ],
      "metadata": {
        "id": "zt90rhhG4QN9"
      }
    },
    {
      "cell_type": "code",
      "source": [
        "############ Using Append() ################\n",
        "shop = []\n",
        "shop.append(\"veges\")\n",
        "shop.append(\"fruits\")\n",
        "shop.append(\"milk\")\n",
        "shop\n"
      ],
      "metadata": {
        "id": "v-JdPFdD4PUH",
        "colab": {
          "base_uri": "https://localhost:8080/"
        },
        "outputId": "1cc9a87b-a9b6-47da-f19c-c1792fcb5eb3"
      },
      "execution_count": null,
      "outputs": [
        {
          "output_type": "execute_result",
          "data": {
            "text/plain": [
              "['veges', 'fruits', 'milk']"
            ]
          },
          "metadata": {},
          "execution_count": 34
        }
      ]
    },
    {
      "cell_type": "markdown",
      "source": [
        "**TO DO**"
      ],
      "metadata": {
        "id": "jg5OErJUoJx7"
      }
    },
    {
      "cell_type": "code",
      "source": [
        "############  Using Insert() ##################\n",
        "num = [1,2,3,4,5,6]\n",
        "num.insert(7, 8) \n",
        "print(num)\n",
        "####################### Replace 3 with car in s ############################\n",
        "\n",
        "####################### Insert 7 at the end of the s #######################\n"
      ],
      "metadata": {
        "id": "eYCev9Jd5nk8",
        "colab": {
          "base_uri": "https://localhost:8080/"
        },
        "outputId": "f3437334-a25b-4168-8c35-43fdf5c6b59c"
      },
      "execution_count": null,
      "outputs": [
        {
          "output_type": "stream",
          "name": "stdout",
          "text": [
            "[1, 2, 3, 4, 5, 6, 8]\n"
          ]
        }
      ]
    },
    {
      "cell_type": "code",
      "source": [
        "len(num)"
      ],
      "metadata": {
        "colab": {
          "base_uri": "https://localhost:8080/"
        },
        "id": "N2ieCo6Dkbse",
        "outputId": "15089bbd-7342-4bfa-ab13-1488e459309c"
      },
      "execution_count": null,
      "outputs": [
        {
          "output_type": "execute_result",
          "data": {
            "text/plain": [
              "7"
            ]
          },
          "metadata": {},
          "execution_count": 80
        }
      ]
    },
    {
      "cell_type": "code",
      "source": [
        "num[9]"
      ],
      "metadata": {
        "colab": {
          "base_uri": "https://localhost:8080/",
          "height": 168
        },
        "id": "Y3cmPP8Xkewp",
        "outputId": "e2416058-fb1b-4e5a-c0db-c82c16e28ad0"
      },
      "execution_count": null,
      "outputs": [
        {
          "output_type": "error",
          "ename": "IndexError",
          "evalue": "ignored",
          "traceback": [
            "\u001b[0;31m---------------------------------------------------------------------------\u001b[0m",
            "\u001b[0;31mIndexError\u001b[0m                                Traceback (most recent call last)",
            "\u001b[0;32m<ipython-input-81-2d17f1284777>\u001b[0m in \u001b[0;36m<module>\u001b[0;34m()\u001b[0m\n\u001b[0;32m----> 1\u001b[0;31m \u001b[0mnum\u001b[0m\u001b[0;34m[\u001b[0m\u001b[0;36m9\u001b[0m\u001b[0;34m]\u001b[0m\u001b[0;34m\u001b[0m\u001b[0;34m\u001b[0m\u001b[0m\n\u001b[0m",
            "\u001b[0;31mIndexError\u001b[0m: list index out of range"
          ]
        }
      ]
    },
    {
      "cell_type": "code",
      "source": [
        "###################### Using Extend() ##############################\n",
        "#append but with multiple elements\n",
        "fruits = ['Orange','Mango','Pawpaw']\n",
        "Vegetables = ['Tomato','Onion']\n",
        "\n",
        "fruits.extend(Vegetables)"
      ],
      "metadata": {
        "id": "070fvco77Tcx"
      },
      "execution_count": null,
      "outputs": []
    },
    {
      "cell_type": "code",
      "source": [
        "fruits \n"
      ],
      "metadata": {
        "colab": {
          "base_uri": "https://localhost:8080/"
        },
        "id": "LItJNytxhB3I",
        "outputId": "6a6ae0b3-0860-4906-ad90-c24a3810825e"
      },
      "execution_count": null,
      "outputs": [
        {
          "output_type": "execute_result",
          "data": {
            "text/plain": [
              "['Orange', 'Mango', 'Pawpaw', 'Tomato', 'Onion']"
            ]
          },
          "metadata": {},
          "execution_count": 42
        }
      ]
    },
    {
      "cell_type": "markdown",
      "source": [
        "**TO DO**"
      ],
      "metadata": {
        "id": "BtaT7kCl7gjk"
      }
    },
    {
      "cell_type": "code",
      "source": [
        "#################### create an empty list and add your favorite foods using extend() ###########\n"
      ],
      "metadata": {
        "id": "zbrey5557faY"
      },
      "execution_count": null,
      "outputs": []
    },
    {
      "cell_type": "markdown",
      "source": [
        "## Removing Elements from a list"
      ],
      "metadata": {
        "id": "XN4TWhL377W-"
      }
    },
    {
      "cell_type": "markdown",
      "source": [
        "**To Do**"
      ],
      "metadata": {
        "id": "Oo1sYiZ7pBnn"
      }
    },
    {
      "cell_type": "code",
      "source": [
        "########### Using pop() ###########################\n",
        "#Removes last element by default, pass index inorder to remove specific element\n",
        "fruits = ['Orange','Mango','Pawpaw']\n",
        "fruits.pop()\n"
      ],
      "metadata": {
        "id": "8jCny9vH8Cht",
        "colab": {
          "base_uri": "https://localhost:8080/",
          "height": 35
        },
        "outputId": "61b418e9-1939-4bef-fa84-8c8c9cbd2405"
      },
      "execution_count": null,
      "outputs": [
        {
          "output_type": "execute_result",
          "data": {
            "text/plain": [
              "'Pawpaw'"
            ],
            "application/vnd.google.colaboratory.intrinsic+json": {
              "type": "string"
            }
          },
          "metadata": {},
          "execution_count": 46
        }
      ]
    },
    {
      "cell_type": "code",
      "source": [
        "fruits = ['Orange','Mango','Pawpaw','Pawpaw']\n",
        "fruits.pop(1)"
      ],
      "metadata": {
        "colab": {
          "base_uri": "https://localhost:8080/",
          "height": 35
        },
        "id": "srxMQkp6haMN",
        "outputId": "7b41cff7-f800-4ae4-9242-abc69af5b745"
      },
      "execution_count": null,
      "outputs": [
        {
          "output_type": "execute_result",
          "data": {
            "text/plain": [
              "'Mango'"
            ],
            "application/vnd.google.colaboratory.intrinsic+json": {
              "type": "string"
            }
          },
          "metadata": {},
          "execution_count": 53
        }
      ]
    },
    {
      "cell_type": "code",
      "source": [
        "fruits"
      ],
      "metadata": {
        "colab": {
          "base_uri": "https://localhost:8080/"
        },
        "id": "G5VO3lAahiII",
        "outputId": "3328edcf-20c7-4f36-91db-b55361c7a7db"
      },
      "execution_count": null,
      "outputs": [
        {
          "output_type": "execute_result",
          "data": {
            "text/plain": [
              "['Orange', 'Pawpaw', 'Pawpaw']"
            ]
          },
          "metadata": {},
          "execution_count": 54
        }
      ]
    },
    {
      "cell_type": "code",
      "source": [
        "########### Using remove() ###########################\n",
        "\n",
        "#Removes specified element, one at a time"
      ],
      "metadata": {
        "id": "YRloX5LE8Gxo"
      },
      "execution_count": null,
      "outputs": []
    },
    {
      "cell_type": "markdown",
      "source": [
        "# Dictionaries"
      ],
      "metadata": {
        "id": "RNfTl--p35ST"
      }
    },
    {
      "cell_type": "markdown",
      "source": [
        "Dictionaries in Python are used to store data values just like list, but unlike a list that holds only a single value as an element, Dictionaries holds key:value pair. \n",
        "Properties:\n",
        " * They are ordered\n",
        " * changeable \n",
        " * Do not allow duplicates"
      ],
      "metadata": {
        "id": "1BdSBNSAGwsm"
      }
    },
    {
      "cell_type": "markdown",
      "source": [
        "##Creating a dictionary"
      ],
      "metadata": {
        "id": "BBJgCF4AZrB7"
      }
    },
    {
      "cell_type": "markdown",
      "source": [
        "We can create a dictionary using curly brackets {}"
      ],
      "metadata": {
        "id": "SrUqpZ93HA-o"
      }
    },
    {
      "cell_type": "code",
      "source": [
        "dict1 = {\"Ashanti\":\"Kumasi\",\"Volta\":\"Ho\",\"Northern\":\"Tamale\"}\n",
        "\n",
        "# ############## the use of Integer Keys: \n",
        "dict2 = {1:\"Ashanti\", 2:\"Volta\",3:\"Northern\"}\n",
        "\n",
        "# ########## use of Mixed Keys: ###########\n",
        "dict3 = {1: [1, 2, 3, 4], 'Name': 'Geeks'}\n",
        "\n",
        "# print(dict1)\n",
        "# print(dict2)\n",
        "# print(dict3)"
      ],
      "metadata": {
        "id": "5muhE4VW38Op"
      },
      "execution_count": null,
      "outputs": []
    },
    {
      "cell_type": "code",
      "source": [
        "dict3"
      ],
      "metadata": {
        "colab": {
          "base_uri": "https://localhost:8080/"
        },
        "id": "N0nsM1rXiBBM",
        "outputId": "4d531128-be1f-41cd-cc0a-c54939cf46d9"
      },
      "execution_count": null,
      "outputs": [
        {
          "output_type": "execute_result",
          "data": {
            "text/plain": [
              "{1: [1, 2, 3, 4], 'Name': 'Geeks'}"
            ]
          },
          "metadata": {},
          "execution_count": 61
        }
      ]
    },
    {
      "cell_type": "markdown",
      "source": [
        "**TODO**"
      ],
      "metadata": {
        "id": "GnuztJ6vskpA"
      }
    },
    {
      "cell_type": "code",
      "source": [
        "######## Create a dictionary containing items of a supermaket as keys and prices as values #############\n",
        "\n",
        "supermaket = {'milk':20,'sugar':60 }\n",
        "\n",
        "print(supermaket)"
      ],
      "metadata": {
        "id": "jrmQdHj8XQ6S",
        "colab": {
          "base_uri": "https://localhost:8080/"
        },
        "outputId": "f13c1457-056a-47e0-b761-8c563ee6c6f9"
      },
      "execution_count": null,
      "outputs": [
        {
          "output_type": "stream",
          "name": "stdout",
          "text": [
            "{'milk': 20, 'sugar': 60}\n"
          ]
        }
      ]
    },
    {
      "cell_type": "markdown",
      "source": [
        "##Accesing Elements in dictionaries\n",
        "We can access elements of a dictionary by its key values"
      ],
      "metadata": {
        "id": "mZtSUb70X1PE"
      }
    },
    {
      "cell_type": "code",
      "source": [
        "dict1['Northern']"
      ],
      "metadata": {
        "colab": {
          "base_uri": "https://localhost:8080/",
          "height": 35
        },
        "id": "9s7c4afDXjX1",
        "outputId": "23925523-5e71-4a21-cc82-821e4982457f"
      },
      "execution_count": null,
      "outputs": [
        {
          "output_type": "execute_result",
          "data": {
            "text/plain": [
              "'Tamale'"
            ],
            "application/vnd.google.colaboratory.intrinsic+json": {
              "type": "string"
            }
          },
          "metadata": {},
          "execution_count": 64
        }
      ]
    },
    {
      "cell_type": "markdown",
      "source": [
        "###Get keys"
      ],
      "metadata": {
        "id": "1oeA4DjhYDfh"
      }
    },
    {
      "cell_type": "code",
      "source": [
        "regions  = dict1.keys()\n",
        "regions"
      ],
      "metadata": {
        "id": "eJiNwGXBYFAK",
        "colab": {
          "base_uri": "https://localhost:8080/"
        },
        "outputId": "06e12499-4ed1-4c3e-b19a-7a10cd0ab873"
      },
      "execution_count": null,
      "outputs": [
        {
          "output_type": "execute_result",
          "data": {
            "text/plain": [
              "dict_keys(['Ashanti', 'Volta', 'Northern'])"
            ]
          },
          "metadata": {},
          "execution_count": 65
        }
      ]
    },
    {
      "cell_type": "markdown",
      "source": [
        "###Get values"
      ],
      "metadata": {
        "id": "4jXKJfviYZEZ"
      }
    },
    {
      "cell_type": "code",
      "source": [
        "capitals = dict1.values()\n",
        "capitals"
      ],
      "metadata": {
        "colab": {
          "base_uri": "https://localhost:8080/"
        },
        "id": "9vu5PNITYXoF",
        "outputId": "1acd2f1f-f652-4202-9a11-0b9467a3a820"
      },
      "execution_count": null,
      "outputs": [
        {
          "output_type": "execute_result",
          "data": {
            "text/plain": [
              "dict_values(['Kumasi', 'Ho', 'Tamale'])"
            ]
          },
          "metadata": {},
          "execution_count": 66
        }
      ]
    },
    {
      "cell_type": "markdown",
      "source": [
        "##Mutable"
      ],
      "metadata": {
        "id": "vtODp2qwZ3j4"
      }
    },
    {
      "cell_type": "code",
      "source": [
        "currencies = {'US':'dollar','Ghana':'Naira','Nigeria':'Naira','Senegal':'CFA'}\n",
        "currencies"
      ],
      "metadata": {
        "id": "ZZCYxawRZ0O1",
        "colab": {
          "base_uri": "https://localhost:8080/"
        },
        "outputId": "ce4c5e6d-141d-4fde-e446-302ccc847d92"
      },
      "execution_count": null,
      "outputs": [
        {
          "output_type": "execute_result",
          "data": {
            "text/plain": [
              "{'Ghana': 'Naira', 'Nigeria': 'Naira', 'Senegal': 'CFA', 'US': 'dollar'}"
            ]
          },
          "metadata": {},
          "execution_count": 67
        }
      ]
    },
    {
      "cell_type": "code",
      "source": [
        "currencies['Ghana'] = 'Cedis'\n",
        "currencies"
      ],
      "metadata": {
        "id": "yR-lGAVuaXXs",
        "colab": {
          "base_uri": "https://localhost:8080/"
        },
        "outputId": "ff6b8b3e-7ff0-4903-8f90-2ff45cd247b8"
      },
      "execution_count": null,
      "outputs": [
        {
          "output_type": "execute_result",
          "data": {
            "text/plain": [
              "{'Ghana': 'Cedis', 'Nigeria': 'Naira', 'Senegal': 'CFA', 'US': 'dollar'}"
            ]
          },
          "metadata": {},
          "execution_count": 69
        }
      ]
    },
    {
      "cell_type": "markdown",
      "source": [
        "### Handling Duplicates"
      ],
      "metadata": {
        "id": "EeTywKiUYtWE"
      }
    },
    {
      "cell_type": "code",
      "source": [
        "dict4 = {\"Ashanti\":\"Kumasi\",\"Volta\":\"Ho\",\"Northern\":\"Tamale\",\"Ashanti\":\"Kumasi\"}\n",
        "dict4"
      ],
      "metadata": {
        "colab": {
          "base_uri": "https://localhost:8080/"
        },
        "id": "Ie7gcuErYwwz",
        "outputId": "95e29fd5-dda2-4f41-874e-04b754ead0f0"
      },
      "execution_count": null,
      "outputs": [
        {
          "output_type": "execute_result",
          "data": {
            "text/plain": [
              "{'Ashanti': 'Kumasi', 'Northern': 'Tamale', 'Volta': 'Ho'}"
            ]
          },
          "metadata": {},
          "execution_count": 70
        }
      ]
    },
    {
      "cell_type": "markdown",
      "source": [
        "**TO DO**\n",
        "\n",
        "Create a dictionary using the names of 5 people on the zoom as keys and randomly assign ages to them as their values.\n",
        "i.e Musah:10, Salomey:12, Aseda:9, Kanubala:17, Abigail:19"
      ],
      "metadata": {
        "id": "j7FQCUe1pM-q"
      }
    },
    {
      "cell_type": "code",
      "source": [
        "#Insert your code here.............."
      ],
      "metadata": {
        "id": "eV3fxJT8pod-"
      },
      "execution_count": null,
      "outputs": []
    },
    {
      "cell_type": "markdown",
      "source": [
        "##More operations on dictionaries include\n",
        "* Adding elements\n",
        "* Removing elements\n",
        "* Nesting\n",
        "* E.t.c"
      ],
      "metadata": {
        "id": "7csqBSxpbrvL"
      }
    },
    {
      "cell_type": "markdown",
      "source": [
        "# Sets"
      ],
      "metadata": {
        "id": "GOrFycvU38-y"
      }
    },
    {
      "cell_type": "markdown",
      "source": [
        "Sets are used to store multiple items in a single variable."
      ],
      "metadata": {
        "id": "c-IZzf5_cg8u"
      }
    },
    {
      "cell_type": "markdown",
      "source": [
        "##Properties\n",
        "* Unordered and Unindexed\n",
        "* Unchangeable*\n",
        "* Do not allow duplicates\n"
      ],
      "metadata": {
        "id": "W8FnttPHcjXB"
      }
    },
    {
      "cell_type": "code",
      "source": [
        "fruits = {\"apple\",\"banana\",\"mango\"}\n",
        "fruits"
      ],
      "metadata": {
        "id": "9Dwyb-11-POn",
        "colab": {
          "base_uri": "https://localhost:8080/"
        },
        "outputId": "13a1e53a-0709-40db-c042-01ba72690468"
      },
      "execution_count": null,
      "outputs": [
        {
          "output_type": "execute_result",
          "data": {
            "text/plain": [
              "{'apple', 'banana', 'mango'}"
            ]
          },
          "metadata": {},
          "execution_count": 71
        }
      ]
    },
    {
      "cell_type": "code",
      "source": [
        "type(fruits)"
      ],
      "metadata": {
        "id": "GeoOfkgI4AYb",
        "colab": {
          "base_uri": "https://localhost:8080/"
        },
        "outputId": "34edc660-4e9d-4c33-cee5-061df3f362e3"
      },
      "execution_count": null,
      "outputs": [
        {
          "output_type": "execute_result",
          "data": {
            "text/plain": [
              "set"
            ]
          },
          "metadata": {},
          "execution_count": 72
        }
      ]
    },
    {
      "cell_type": "code",
      "source": [
        "#Unordered\n",
        "fruits[1]"
      ],
      "metadata": {
        "id": "u6Oaooi9_HCb",
        "colab": {
          "base_uri": "https://localhost:8080/",
          "height": 185
        },
        "outputId": "49d68571-609b-4259-bbb4-6f855acdf59c"
      },
      "execution_count": null,
      "outputs": [
        {
          "output_type": "error",
          "ename": "TypeError",
          "evalue": "ignored",
          "traceback": [
            "\u001b[0;31m---------------------------------------------------------------------------\u001b[0m",
            "\u001b[0;31mTypeError\u001b[0m                                 Traceback (most recent call last)",
            "\u001b[0;32m<ipython-input-73-724214be7c44>\u001b[0m in \u001b[0;36m<module>\u001b[0;34m()\u001b[0m\n\u001b[1;32m      1\u001b[0m \u001b[0;31m#Unordered\u001b[0m\u001b[0;34m\u001b[0m\u001b[0;34m\u001b[0m\u001b[0;34m\u001b[0m\u001b[0m\n\u001b[0;32m----> 2\u001b[0;31m \u001b[0mfruits\u001b[0m\u001b[0;34m[\u001b[0m\u001b[0;36m1\u001b[0m\u001b[0;34m]\u001b[0m\u001b[0;34m\u001b[0m\u001b[0;34m\u001b[0m\u001b[0m\n\u001b[0m",
            "\u001b[0;31mTypeError\u001b[0m: 'set' object is not subscriptable"
          ]
        }
      ]
    },
    {
      "cell_type": "code",
      "source": [
        "# #Unchangeable*\n",
        "fruits[1] = \"strawberry\""
      ],
      "metadata": {
        "id": "bUk6qzSA-lbQ",
        "colab": {
          "base_uri": "https://localhost:8080/",
          "height": 185
        },
        "outputId": "58502bf6-c364-4e34-ece5-da1fbe7b89bf"
      },
      "execution_count": null,
      "outputs": [
        {
          "output_type": "error",
          "ename": "TypeError",
          "evalue": "ignored",
          "traceback": [
            "\u001b[0;31m---------------------------------------------------------------------------\u001b[0m",
            "\u001b[0;31mTypeError\u001b[0m                                 Traceback (most recent call last)",
            "\u001b[0;32m<ipython-input-74-9714e18d023f>\u001b[0m in \u001b[0;36m<module>\u001b[0;34m()\u001b[0m\n\u001b[1;32m      1\u001b[0m \u001b[0;31m# #Unchangeable*\u001b[0m\u001b[0;34m\u001b[0m\u001b[0;34m\u001b[0m\u001b[0;34m\u001b[0m\u001b[0m\n\u001b[0;32m----> 2\u001b[0;31m \u001b[0mfruits\u001b[0m\u001b[0;34m[\u001b[0m\u001b[0;36m1\u001b[0m\u001b[0;34m]\u001b[0m \u001b[0;34m=\u001b[0m \u001b[0;34m\"strawberry\"\u001b[0m\u001b[0;34m\u001b[0m\u001b[0;34m\u001b[0m\u001b[0m\n\u001b[0m",
            "\u001b[0;31mTypeError\u001b[0m: 'set' object does not support item assignment"
          ]
        }
      ]
    },
    {
      "cell_type": "code",
      "source": [
        "#Non duplicates\n",
        "fruits = {\"apple\",\"banana\",\"mango\",\"apple\"}\n",
        "fruits"
      ],
      "metadata": {
        "id": "CXRnQT_4AWxM",
        "colab": {
          "base_uri": "https://localhost:8080/"
        },
        "outputId": "55f9e064-5332-4767-8b3d-ea8dfc375801"
      },
      "execution_count": null,
      "outputs": [
        {
          "output_type": "execute_result",
          "data": {
            "text/plain": [
              "{'apple', 'banana', 'mango'}"
            ]
          },
          "metadata": {},
          "execution_count": 75
        }
      ]
    },
    {
      "cell_type": "markdown",
      "source": [
        "Adding items to a set"
      ],
      "metadata": {
        "id": "bp-SbYHOBXNt"
      }
    },
    {
      "cell_type": "code",
      "source": [
        "fruits.add(\"orange\")\n",
        "fruits"
      ],
      "metadata": {
        "colab": {
          "base_uri": "https://localhost:8080/"
        },
        "id": "L6eaG1zPBPkn",
        "outputId": "ae19e6e3-e3a3-4599-af79-0753fab887bd"
      },
      "execution_count": null,
      "outputs": [
        {
          "output_type": "execute_result",
          "data": {
            "text/plain": [
              "{'apple', 'banana', 'mango', 'orange'}"
            ]
          },
          "metadata": {},
          "execution_count": 76
        }
      ]
    },
    {
      "cell_type": "code",
      "source": [
        "fruits = {\"apple\",\"banana\",\"mango\",\"apple\"}\n",
        "veges = {\"tomato\", \"lettuce\", \"okra\"}\n",
        "fruits.update(veges)\n",
        "fruits"
      ],
      "metadata": {
        "colab": {
          "base_uri": "https://localhost:8080/"
        },
        "id": "aXh-uungB-pI",
        "outputId": "a3c94f8d-6516-4bd4-c136-6a735d912a8d"
      },
      "execution_count": null,
      "outputs": [
        {
          "output_type": "execute_result",
          "data": {
            "text/plain": [
              "{'apple', 'banana', 'lettuce', 'mango', 'okra', 'tomato'}"
            ]
          },
          "metadata": {},
          "execution_count": 77
        }
      ]
    },
    {
      "cell_type": "markdown",
      "source": [
        "Removing items "
      ],
      "metadata": {
        "id": "dvodTIJfCcNK"
      }
    },
    {
      "cell_type": "code",
      "source": [
        "fruits.remove(\"apple\")\n",
        "fruits"
      ],
      "metadata": {
        "colab": {
          "base_uri": "https://localhost:8080/"
        },
        "id": "KToEUnaaCinU",
        "outputId": "d8916ae8-12ca-4900-8371-ee1cc84e24e5"
      },
      "execution_count": null,
      "outputs": [
        {
          "output_type": "execute_result",
          "data": {
            "text/plain": [
              "{'banana', 'lettuce', 'mango', 'okra', 'tomato'}"
            ]
          },
          "metadata": {},
          "execution_count": 78
        }
      ]
    },
    {
      "cell_type": "code",
      "source": [
        "fruits.discard(\"banana\")\n",
        "fruits"
      ],
      "metadata": {
        "colab": {
          "base_uri": "https://localhost:8080/"
        },
        "id": "ay87agBgCt7F",
        "outputId": "1b28284a-3dbd-4d54-f95b-8f9cf30ef2a9"
      },
      "execution_count": null,
      "outputs": [
        {
          "output_type": "execute_result",
          "data": {
            "text/plain": [
              "{'lettuce', 'mango', 'okra', 'tomato'}"
            ]
          },
          "metadata": {},
          "execution_count": 79
        }
      ]
    },
    {
      "cell_type": "markdown",
      "source": [
        "# Resources"
      ],
      "metadata": {
        "id": "B_51y3Gy7SUZ"
      }
    },
    {
      "cell_type": "markdown",
      "source": [
        "* [W3schools](https://www.w3schools.com/python/default.asp)\n",
        "* [GeekforGeeks](https://www.geeksforgeeks.org/python-language-introduction/?ref=lbp)\n",
        "* [DataCamp](https://app.datacamp.com/learn/courses/intro-to-python-for-data-science)\n",
        "* [Kaggle](https://www.kaggle.com/learn/python?rvi=1)\n",
        "* [FreeCodeCamp](https://www.freecodecamp.org/news/free-python-crash-course/)"
      ],
      "metadata": {
        "id": "AAGrZzQ17YaG"
      }
    }
  ]
}